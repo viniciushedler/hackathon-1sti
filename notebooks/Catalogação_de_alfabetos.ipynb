{
  "cells": [
    {
      "cell_type": "markdown",
      "metadata": {},
      "source": [
        "# Catalogação de Alfabetos\n",
        "Esse notebook foi usado para a criação e envio da base de dados usada para treinar o modelo preditivo."
      ]
    },
    {
      "cell_type": "markdown",
      "metadata": {
        "id": "2ZTihB4Zb4ka"
      },
      "source": [
        "## Funções Auxiliares\n",
        "Import de bibliotecas e definição de funções para a criação da base de dados utilizada para treinar os modelos de predição."
      ]
    },
    {
      "cell_type": "code",
      "execution_count": null,
      "metadata": {
        "colab": {
          "base_uri": "https://localhost:8080/"
        },
        "id": "IagekDyQ9MhD",
        "outputId": "d9c17d29-4d0e-4a5d-e16b-b1e345b7d9e7"
      },
      "outputs": [],
      "source": [
        "!pip install mediapipe opencv-python"
      ]
    },
    {
      "cell_type": "code",
      "execution_count": null,
      "metadata": {
        "id": "Va69uNRnY9PE"
      },
      "outputs": [],
      "source": [
        "import numpy as np\n",
        "import mediapipe as mp\n",
        "import numpy as np\n",
        "import cv2\n",
        "from math import floor\n",
        "mp_drawing = mp.solutions.drawing_utils\n",
        "mp_hands = mp.solutions.hands\n",
        "\n",
        "from IPython.display import display, Javascript\n",
        "from google.colab.output import eval_js\n",
        "from base64 import b64decode\n",
        "\n",
        "from google.colab import output"
      ]
    },
    {
      "cell_type": "code",
      "execution_count": null,
      "metadata": {
        "id": "Hks5syc6CBll"
      },
      "outputs": [],
      "source": [
        "def result_to_vec(results):\n",
        "  \"\"\"\n",
        "  Transforma o objeto de análise de mãos em vetor.\n",
        "  Útil para treinar modelo sktlearn.\n",
        "  \"\"\"\n",
        "  # verifica se não há mãos no reconhecimento\n",
        "  if results.multi_hand_landmarks == None:\n",
        "    return None\n",
        "  # se há, cria o vetor\n",
        "  v = np.array([])\n",
        "  for lm in results.multi_hand_landmarks[0].landmark:\n",
        "    v = np.append(v, lm.x)\n",
        "    v = np.append(v, lm.y)\n",
        "    v = np.append(v, lm.z)\n",
        "  \n",
        "  return v"
      ]
    },
    {
      "cell_type": "code",
      "execution_count": null,
      "metadata": {
        "id": "_1kkFiYAbo2W"
      },
      "outputs": [],
      "source": [
        "def take_photo(letter, progress=0, total=5, filename='photo.jpg', quality=0.8):\n",
        "  # Função que utiliza webcam para tirar foto para o teste\n",
        "  js = Javascript('''\n",
        "    async function takePhoto(quality) {\n",
        "      const div = document.createElement('div');\n",
        "      const capture = document.createElement('button');\n",
        "      const progress = document.createElement('text');\n",
        "      capture.textContent = 'Capture';\n",
        "      div.appendChild(capture);\n",
        "\n",
        "      const video = document.createElement('video');\n",
        "      video.style.display = 'block';\n",
        "      const stream = await navigator.mediaDevices.getUserMedia({video: true});\n",
        "\n",
        "      document.body.appendChild(div);\n",
        "      div.appendChild(video);\n",
        "      video.srcObject = stream;\n",
        "      await video.play();\n",
        "\n",
        "      // Redimensiona a saída para caber no elemento de vídeo.\n",
        "      google.colab.output.setIframeHeight(document.documentElement.scrollHeight, true);\n",
        "\n",
        "      // Aguarda o clique em Capturar.\n",
        "      await new Promise((resolve) => capture.onclick = resolve);\n",
        "\n",
        "      const canvas = document.createElement('canvas');\n",
        "      canvas.width = video.videoWidth;\n",
        "      canvas.height = video.videoHeight;\n",
        "      canvas.getContext('2d').drawImage(video, 0, 0);\n",
        "      stream.getVideoTracks()[0].stop();\n",
        "      div.remove();\n",
        "      return canvas.toDataURL('image/jpeg', quality);\n",
        "    }\n",
        "    ''')\n",
        "  output.clear()\n",
        "  print(f\"Letra: {letter} \\t\\t Progresso: {progress}/{total}\")\n",
        "  display(js)\n",
        "  data = eval_js('takePhoto({})'.format(quality))\n",
        "  binary = b64decode(data.split(',')[1])\n",
        "  with open(filename, 'wb') as f:\n",
        "    f.write(binary)\n",
        "  return filename\n"
      ]
    },
    {
      "cell_type": "code",
      "execution_count": null,
      "metadata": {
        "id": "s01Rw6lOmhxT"
      },
      "outputs": [],
      "source": [
        "def detect_hands():\n",
        "  cap = cv2.imread('photo.jpg', cv2.IMREAD_UNCHANGED)\n",
        "\n",
        "  with mp_hands.Hands(min_detection_confidence=0.8, min_tracking_confidence=0.5,max_num_hands=1) as hands: \n",
        "  # Passar o argumento `max_num_hands` se quiser detectar mais de uma mão\n",
        "          image = cv2.cvtColor(cap, cv2.COLOR_BGR2RGB)\n",
        "          image.flags.writeable = False\n",
        "          results = hands.process(image)\n",
        "\n",
        "          return results"
      ]
    },
    {
      "cell_type": "code",
      "execution_count": null,
      "metadata": {
        "id": "2QL9iZh6zsop"
      },
      "outputs": [],
      "source": [
        "def capture_alphabet(alphabet, repets):\n",
        "  \"\"\"\n",
        "  Função que inicia o processo de captura dos alfabetos.\n",
        "  Ela retorna vetores X e y para serem treinados em modelo\n",
        "  de classificação.\n",
        "\n",
        "  alphabet: list -> lista com todas as letras do alfabeto.\n",
        "  repets: int -> quantas vezes cada letra será inserida.\n",
        "  \"\"\"\n",
        "  p = 0\n",
        "  total = repets * len(alphabet)\n",
        "\n",
        "  X = np.array([])\n",
        "  y = np.array([alphabet[0]])\n",
        "  while p < total:\n",
        "    i = 0\n",
        "    while i < repets:\n",
        "      # tira a foto e transforma em vetor\n",
        "      idx = floor(p/repets)\n",
        "      letter = alphabet[idx]\n",
        "      filename = take_photo(letter=letter, progress=p, total = total)\n",
        "      v = result_to_vec(detect_hands())\n",
        "\n",
        "      # se o vetor não for nulo, salva respostas\n",
        "      if v is not None:\n",
        "        if len(X) == 0:\n",
        "          X = v\n",
        "          y = np.array([alphabet[0]])\n",
        "        else:\n",
        "          X = np.append(X, v)\n",
        "          y = np.append(y, letter)\n",
        "        p += 1 # soma 1 ao progresso\n",
        "        i += 1 # soma 1 as repetições\n",
        "    \n",
        "  # corrige o formato dos vetores\n",
        "  X = X.reshape((-1, 21*3))\n",
        "  y = y\n",
        "\n",
        "  output.clear()\n",
        "  print(\"Catalogamento concluído! Parabéns! 🥳🥳\")\n",
        "  return X, y"
      ]
    },
    {
      "cell_type": "code",
      "execution_count": null,
      "metadata": {
        "colab": {
          "base_uri": "https://localhost:8080/",
          "height": 356
        },
        "id": "c-x3pvMt2Rvl",
        "outputId": "bb53b641-e4b3-47b9-bbca-168384c0d0d5"
      },
      "outputs": [],
      "source": [
        "import firebase_admin\n",
        "import json\n",
        "from firebase_admin import credentials, firestore\n",
        "\n",
        "cred = credentials.Certificate(\"/content/serviceAccountKey.json\")\n",
        "firebase_admin.initialize_app(cred)\n",
        "\n",
        "db = firestore.client()"
      ]
    },
    {
      "cell_type": "markdown",
      "metadata": {
        "id": "wOg733rSma9R"
      },
      "source": [
        "## Treinamento de Alfabetos\n",
        "Seção para captura de dados para as letras dos modelos. É possível selecionar quais letras serão treinadas e quantas repetições devem ser capturadas de cada letra. \n",
        "Ao fim da seção de captura, é possível enviar os dados gerados para o banco hospedado no Firebase e/ou fazer o download para testes de eficiência dos modelos."
      ]
    },
    {
      "cell_type": "code",
      "execution_count": null,
      "metadata": {
        "colab": {
          "base_uri": "https://localhost:8080/",
          "height": 34
        },
        "id": "6kEKxJ1fcGnl",
        "outputId": "8eb86123-c24e-4299-9e05-36cbb29af336"
      },
      "outputs": [
        {
          "name": "stdout",
          "output_type": "stream",
          "text": [
            "Catalogamento concluído! Parabéns! 🥳🥳\n"
          ]
        }
      ],
      "source": [
        "alphabet = ['a', 'b', 'c', 'd', 'e', 'f', 'g', 'i', 'l', 'm', 'n', 'o', 'p', 'q', 'r', 's', 't', 'u', 'v']\n",
        "repets = 5\n",
        "\n",
        "# ===== treine o alfabeto aqui =====\n",
        "X, y = capture_alphabet(alphabet, repets)"
      ]
    },
    {
      "cell_type": "code",
      "execution_count": null,
      "metadata": {
        "colab": {
          "base_uri": "https://localhost:8080/"
        },
        "id": "khP0-nZO09eU",
        "outputId": "c62016c3-9f82-4d06-d36d-048ac4c01e2e"
      },
      "outputs": [
        {
          "name": "stdout",
          "output_type": "stream",
          "text": [
            "Digite o nome para o seu commit: laguardia_1\n",
            "Confirma o envio? [Y/n]y\n"
          ]
        }
      ],
      "source": [
        "# ====== Envia o treinamento ======\n",
        "\"\"\"\n",
        "Envia o treinamento para o banco de dados.\n",
        "\"\"\"\n",
        "commit = input(\"Digite o nome para o seu commit: \") # cada envio deve ter um nome diferente\n",
        "if input(\"Confirma o envio? [Y/n]\").lower() == \"y\":\n",
        "  db.collection('y').document(commit).set({'value':y.tolist()})\n",
        "  db.collection('X').document(commit).set({'value':X.flatten().tolist()})\n",
        "else:\n",
        "  print(\"envio cancelado.\")"
      ]
    },
    {
      "cell_type": "code",
      "execution_count": null,
      "metadata": {
        "id": "BaEf2l_7Eq8R"
      },
      "outputs": [],
      "source": [
        "# ===== Download de alfabeto =====\n",
        "\"\"\"\n",
        "Usado para medir a eficácia dos diferentes modelos testados.\n",
        "\"\"\"\n",
        "import pickle \n",
        "\n",
        "with open('alphabet.data', 'wb') as f:\n",
        "  pickle.dump(X, f)"
      ]
    }
  ],
  "metadata": {
    "colab": {
      "collapsed_sections": [
        "J1Etn4iGXMke",
        "XPZYtcXXYlS_"
      ],
      "provenance": []
    },
    "kernelspec": {
      "display_name": "Python 3.11.0 64-bit",
      "language": "python",
      "name": "python3"
    },
    "language_info": {
      "name": "python",
      "version": "3.11.0"
    },
    "vscode": {
      "interpreter": {
        "hash": "eef08866a9898f3d66d483d958c7ee235777df3178bcc948efcc758beb88e60b"
      }
    }
  },
  "nbformat": 4,
  "nbformat_minor": 0
}
