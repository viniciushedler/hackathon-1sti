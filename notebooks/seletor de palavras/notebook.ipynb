{
 "cells": [
  {
   "cell_type": "markdown",
   "metadata": {},
   "source": [
    "# Seletor de palavras válidas\n",
    "A partir de uma lista de palavras na internet, seleciona apenas as palavras\n",
    "que possuem os caracteres para os quais nosso modelo foi treinado para reconhecer."
   ]
  },
  {
   "cell_type": "code",
   "execution_count": 6,
   "metadata": {},
   "outputs": [],
   "source": [
    "letters = ['a', 'b', 'd', 'e', 'g', 'l', 'n', 'o', 'p', 'q', 'r', 't', 'v']\n",
    "valid_words = []\n",
    "\n",
    "with open(\"Lista-de-Palavras.txt\", \"r\") as f:\n",
    "    for word in f:\n",
    "        valid = True\n",
    "        for letter in word.strip().lower():\n",
    "            if letter not in letters:\n",
    "                valid = False\n",
    "                break\n",
    "        if valid:\n",
    "            word = word.strip().lower()\n",
    "            valid_words.append(word)\n"
   ]
  },
  {
   "cell_type": "code",
   "execution_count": 7,
   "metadata": {},
   "outputs": [],
   "source": [
    "# write to file\n",
    "with open(\"valid_words.txt\", \"w\") as f:\n",
    "    for word in valid_words:\n",
    "        f.write(word + \"\\n\")"
   ]
  }
 ],
 "metadata": {
  "kernelspec": {
   "display_name": "Python 3.11.0 64-bit",
   "language": "python",
   "name": "python3"
  },
  "language_info": {
   "codemirror_mode": {
    "name": "ipython",
    "version": 3
   },
   "file_extension": ".py",
   "mimetype": "text/x-python",
   "name": "python",
   "nbconvert_exporter": "python",
   "pygments_lexer": "ipython3",
   "version": "3.11.0"
  },
  "orig_nbformat": 4,
  "vscode": {
   "interpreter": {
    "hash": "eef08866a9898f3d66d483d958c7ee235777df3178bcc948efcc758beb88e60b"
   }
  }
 },
 "nbformat": 4,
 "nbformat_minor": 2
}
